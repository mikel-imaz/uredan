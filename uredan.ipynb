{
 "cells": [
  {
   "cell_type": "markdown",
   "id": "3f12a53d-06e2-4db3-9746-99f300e6a85a",
   "metadata": {},
   "source": [
    "# Uredan"
   ]
  },
  {
   "cell_type": "markdown",
   "id": "b8294d51-f812-49d0-8f92-97c877e67f39",
   "metadata": {},
   "source": [
    "## Setup"
   ]
  },
  {
   "cell_type": "code",
   "execution_count": 1,
   "id": "2843b5eb-6004-416d-a57f-711d2c4dbde4",
   "metadata": {},
   "outputs": [],
   "source": [
    "!pip install --quiet wikipedia langchain-core langchain-openai langgraph\n",
    "!pip install --quiet pandas gradio typing IPython tabulate"
   ]
  },
  {
   "cell_type": "code",
   "execution_count": 2,
   "id": "bee909f2-4ccc-4572-8137-372f1a09dc09",
   "metadata": {},
   "outputs": [],
   "source": [
    "import pandas as pd\n",
    "import gradio as gr\n",
    "from wqapi import WaterQuality\n",
    "from municipios import provincias, provincias_, municipios\n",
    "\n",
    "import os, getpass\n",
    "\n",
    "from langchain_openai import ChatOpenAI\n",
    "from langchain_core.tools import tool\n",
    "from langchain_core.messages import AIMessage, HumanMessage, SystemMessage, ToolMessage\n",
    "\n",
    "from langgraph.graph import START, END, StateGraph, MessagesState\n",
    "from langgraph.prebuilt import tools_condition, ToolNode\n",
    "from langgraph.checkpoint.memory import MemorySaver\n",
    "\n",
    "from IPython.display import Image, display\n",
    "\n",
    "from typing import Annotated\n",
    "import wikipedia\n",
    "import time\n",
    "\n",
    "# Class to access API data\n",
    "wq = WaterQuality()\n",
    "\n",
    "# Global variables\n",
    "county_id, municipality_id = \"\", \"\"\n",
    "point_id, date = \"\", \"\"\n",
    "points, data = pd.DataFrame(), pd.DataFrame()"
   ]
  },
  {
   "cell_type": "markdown",
   "id": "e2e9bf3c-c989-4e0c-bb14-5de2b49c8649",
   "metadata": {},
   "source": [
    "## LLM"
   ]
  },
  {
   "cell_type": "code",
   "execution_count": 12,
   "id": "9c8ccf3d-6fd5-4ea7-b6ff-32625a2a09ad",
   "metadata": {},
   "outputs": [],
   "source": [
    "def _set_env(var: str):\n",
    "    if not os.environ.get(var):\n",
    "        os.environ[var] = getpass.getpass(f\"{var}: \")\n",
    "\n",
    "_set_env(\"OPENAI_API_KEY\")"
   ]
  },
  {
   "cell_type": "code",
   "execution_count": 13,
   "id": "25271119-4fc4-4533-9e5a-32f2870a1969",
   "metadata": {},
   "outputs": [],
   "source": [
    "llm = ChatOpenAI(model=\"gpt-4o-mini\", temperature=0) "
   ]
  },
  {
   "cell_type": "markdown",
   "id": "fd9d6a96-145f-407a-abd5-dd94945d8ee0",
   "metadata": {},
   "source": [
    "## Tools"
   ]
  },
  {
   "cell_type": "code",
   "execution_count": 14,
   "id": "472543e4-821f-4722-a901-bfa71637675f",
   "metadata": {},
   "outputs": [],
   "source": [
    "@tool\n",
    "def wikipedia_tool(\n",
    "    query: Annotated[str, \"The Wikipedia search to execute to find key summary information.\"],\n",
    ") -> str:\n",
    "    \"\"\"Use this to search Wikipedia for factual information.\"\"\"\n",
    "    try:\n",
    "        # Step 1: Search using query\n",
    "        results = wikipedia.search(query)\n",
    "        \n",
    "        if not results:\n",
    "            return \"No results found on Wikipedia.\"\n",
    "        \n",
    "        # Step 2: Retrieve page title\n",
    "        title = results[0]\n",
    "\n",
    "        # Step 3: Fetch summary\n",
    "        summary = wikipedia.summary(title, sentences=8, auto_suggest=False, redirect=True)\n",
    "    \n",
    "    except BaseException as e:\n",
    "        return f\"Failed to execute. Error: {repr(e)}\"\n",
    "    \n",
    "    result_str = f\"Successfully executed:\\nWikipedia summary: {summary}\"\n",
    "    return result_str"
   ]
  },
  {
   "cell_type": "code",
   "execution_count": 15,
   "id": "b650a2fd-00e7-4af8-bd7e-2545da5f5d89",
   "metadata": {},
   "outputs": [],
   "source": [
    "def find_ids(municipio):\n",
    "    provincia, county_id, municipality_id = \"\", \"\", \"\"\n",
    "    for province, munis in municipios.items():\n",
    "        if municipio in munis:\n",
    "            provincia = province\n",
    "            break\n",
    "    if provincia:\n",
    "        county_id = provincias[provincia]\n",
    "        municipality_id = municipios[provincia][municipio]\n",
    "    else:\n",
    "        municipality_id = \"Not found\"\n",
    "    return county_id, municipality_id\n",
    "\n",
    "@tool\n",
    "def get_points_tool(\n",
    "    municipio: Annotated[str, \"Name of the municipality.\"],\n",
    ") -> str:\n",
    "    \"\"\"\n",
    "    Use this tool to retrieve sample points for a given municipality.\n",
    "    \"\"\"\n",
    "    county_id, municipality_id = find_ids(municipio)\n",
    "    df =  wq.sampling_points(county_id, municipality_id)\n",
    "    return f\"Sample points retrieval tool for {municipio}:\\n\\n{df.to_markdown()}\""
   ]
  },
  {
   "cell_type": "code",
   "execution_count": 16,
   "id": "adf0b519-e4c8-403f-b037-0c85e27c04ec",
   "metadata": {},
   "outputs": [],
   "source": [
    "@tool\n",
    "def get_data_tool(\n",
    "    point_id: Annotated[str, \"Identifier of the sample point.\"],\n",
    "    date: Annotated[str, \"Date in which the sample was taken.\"]\n",
    ") -> str:\n",
    "    \"\"\"\n",
    "    Use this tool to retrieve analitycal data for a sample point identifier and a date.\n",
    "    \"\"\"\n",
    "    df =  wq.analytical_data(point_id, date)\n",
    "    return f\"Analytical data retrieval tool for point {point_id} in {date}:\\n\\n{df.to_markdown()}\""
   ]
  },
  {
   "cell_type": "code",
   "execution_count": 17,
   "id": "24f44f80-ea67-4133-a765-0b6b31a0b08c",
   "metadata": {},
   "outputs": [],
   "source": [
    "tools = [wikipedia_tool, get_points_tool, get_data_tool]\n",
    "\n",
    "llm_with_tools = llm.bind_tools(tools)"
   ]
  },
  {
   "cell_type": "markdown",
   "id": "e199c4a3-f7be-4355-b726-9f26f45d0ed4",
   "metadata": {},
   "source": [
    "## Graph"
   ]
  },
  {
   "cell_type": "code",
   "execution_count": 18,
   "id": "f2ce037c-e65e-4401-86c6-4bfd2f82aeac",
   "metadata": {},
   "outputs": [
    {
     "data": {
      "image/png": "[encoded data removed]",
      "text/plain": [
       "<IPython.core.display.Image object>"
      ]
     },
     "metadata": {},
     "output_type": "display_data"
    }
   ],
   "source": [
    "# Assistant\n",
    "def assistant(state: MessagesState):\n",
    "   return {\"messages\": [llm_with_tools.invoke(state[\"messages\"])]}\n",
    "\n",
    "# Build graph\n",
    "graph_builder = StateGraph(MessagesState)\n",
    "\n",
    "# Define nodes\n",
    "graph_builder.add_node(\"assistant\", assistant)\n",
    "graph_builder.add_node(\"tools\", ToolNode(tools))\n",
    "\n",
    "# Define edges\n",
    "graph_builder.add_edge(START, \"assistant\")\n",
    "graph_builder.add_conditional_edges(\n",
    "    \"assistant\",\n",
    "    tools_condition,\n",
    ")\n",
    "graph_builder.add_edge(\"tools\", \"assistant\")\n",
    "\n",
    "# Compile\n",
    "memory = MemorySaver()\n",
    "graph = graph_builder.compile(checkpointer=memory)\n",
    "\n",
    "# Show\n",
    "display(Image(graph.get_graph().draw_mermaid_png()))"
   ]
  },
  {
   "cell_type": "markdown",
   "id": "6923d5b4-b365-47d9-a49c-6dd00b1ed738",
   "metadata": {},
   "source": [
    "## UI (Gradio)"
   ]
  },
  {
   "cell_type": "code",
   "execution_count": 19,
   "id": "8f1be91e-dce7-410a-a7f9-b38b0149e128",
   "metadata": {},
   "outputs": [],
   "source": [
    "config = {\"configurable\": {\"thread_id\": \"1\"}}\n",
    "\n",
    "def newthread():\n",
    "    global config\n",
    "    thread = str(int(config[\"configurable\"][\"thread_id\"]) + 1)\n",
    "    config = {\"configurable\": {\"thread_id\": thread}}\n",
    "    \n",
    "def stream_updates(message, history):\n",
    "    start_time = time.time()\n",
    "    response = gr.ChatMessage(\n",
    "        content=\"\",\n",
    "        metadata={\"title\": \"_Working..._\", \"id\": 0, \"status\": \"pending\"}\n",
    "    )\n",
    "    yield response\n",
    "    \n",
    "    messages = [HumanMessage(content=message)]\n",
    "    accumulated_msgs, answer = \"\", \"\"\n",
    "    for event in graph.stream({\"messages\": messages}, config, stream_mode=\"updates\"):\n",
    "        for node, msgsdict in event.items():\n",
    "            for msg in msgsdict[\"messages\"]:\n",
    "                accumulated_msgs += f\"- Node {node}: {msg.__class__.__name__}\\n\"\n",
    "                if msg.content:\n",
    "                    answer = msg.content\n",
    "                    accumulated_msgs += f\"{msg.content}\\n\\n\"\n",
    "                elif msg.additional_kwargs[\"tool_calls\"]:\n",
    "                    for tool_call in msg.additional_kwargs[\"tool_calls\"]:\n",
    "                        accumulated_msgs += f\"Tool call: {tool_call['function']['name']}, arguments: {tool_call['function']['arguments']}\\n\\n\"  \n",
    "                response.content = accumulated_msgs.strip()\n",
    "                yield response\n",
    "    \n",
    "    response.metadata[\"title\"] = \"_Finished!_\"\n",
    "    response.metadata[\"status\"] = \"done\"\n",
    "    response.metadata[\"duration\"] = time.time() - start_time\n",
    "    yield response\n",
    "\n",
    "    response = [\n",
    "        response,\n",
    "        gr.ChatMessage(\n",
    "            content=answer\n",
    "        )\n",
    "    ]\n",
    "    yield response"
   ]
  },
  {
   "cell_type": "code",
   "execution_count": 20,
   "id": "f282ea42-5cbd-41a9-aaa4-68229fd8fe0f",
   "metadata": {},
   "outputs": [
    {
     "name": "stdout",
     "output_type": "stream",
     "text": [
      "* Running on local URL:  http://127.0.0.1:7861\n",
      "* To create a public link, set `share=True` in `launch()`.\n"
     ]
    },
    {
     "data": {
      "text/html": [
       "<div><iframe src=\"http://127.0.0.1:7861/\" width=\"100%\" height=\"500\" allow=\"autoplay; camera; microphone; clipboard-read; clipboard-write;\" frameborder=\"0\" allowfullscreen></iframe></div>"
      ],
      "text/plain": [
       "<IPython.core.display.HTML object>"
      ]
     },
     "metadata": {},
     "output_type": "display_data"
    },
    {
     "data": {
      "text/plain": []
     },
     "execution_count": 20,
     "metadata": {},
     "output_type": "execute_result"
    }
   ],
   "source": [
    "# Web app with gradio\n",
    "with gr.Blocks() as demo:\n",
    "\n",
    "    #### COMPONENTS ####\n",
    "\n",
    "    # Row 1: Header\n",
    "    with gr.Row():\n",
    "    \n",
    "        # Column 1\n",
    "        with gr.Column(scale=0):\n",
    "            gr.Markdown(\n",
    "                \"\"\"\n",
    "                __Aguas de consumo de Euskadi__  \n",
    "                La API de aguas de consumo permite obtener los datos\n",
    "                registrados por la [Red de Control y Vigilancia\n",
    "                de las aguas de consumo de Euskadi](https://www.euskadi.eus/informacion/red-de-control-y-vigilancia-de-las-aguas-de-consumo-de-euskadi/web01-a3aguas/es/).\n",
    "\n",
    "                API base URI → 'api.euskadi.eus/water-quality'\n",
    "                \"\"\"\n",
    "            )\n",
    "    \n",
    "        # Column 2\n",
    "        with gr.Column(scale=0):\n",
    "            gr.Image(\"img/agua.jpg\")\n",
    "\n",
    "\n",
    "    # Tab 1\n",
    "    with gr.Tab(\"Manual\"):\n",
    "\n",
    "        # Row 2\n",
    "        with gr.Row():\n",
    "        \n",
    "            # Column\n",
    "            with gr.Column(scale=0):\n",
    "                provincia_drp = gr.Dropdown(\n",
    "                    choices=list(provincias.keys()),\n",
    "                    value=None, # No value initially\n",
    "                    label=\"Selecciona la provincia:\",\n",
    "                    interactive=True)\n",
    "                \n",
    "                municipio_drp = gr.Dropdown(\n",
    "                    choices=[],\n",
    "                    label=\"Selecciona el municipio:\",\n",
    "                    interactive=True)\n",
    "    \n",
    "        # Row 3\n",
    "        getpoints_btn = gr.Button(\"Obtener puntos de muestreo\", scale=0)\n",
    "        \n",
    "        # Row 4\n",
    "        points_grdf = gr.Dataframe(type=\"pandas\", wrap=True, interactive=True)\n",
    "    \n",
    "        # Row 5\n",
    "        with gr.Row():\n",
    "            medicion_drp = gr.Dropdown(\n",
    "                choices=[],\n",
    "                label=\"Selecciona el id:\",\n",
    "                interactive=True)\n",
    "            \n",
    "            fecha_drp = gr.Dropdown(\n",
    "                choices=[],\n",
    "                label=\"Selecciona la fecha:\",\n",
    "                interactive=True)\n",
    "    \n",
    "        # Row 6\n",
    "        getdata_btn = gr.Button(\"Obtener datos analíticos\", scale=0)\n",
    "        \n",
    "        # Row 7\n",
    "        data_grdf = gr.Dataframe(type=\"pandas\", wrap=True, interactive=True)\n",
    "\n",
    "\n",
    "        #### EVENTS ####\n",
    "        \n",
    "        # \"Provincia\" selection, \"Municipio\" dropdown populate\n",
    "        def provincia_drp_select(provincia):\n",
    "            global county_id\n",
    "            county_id = provincias[provincia]\n",
    "            return gr.Dropdown(choices=list(municipios[provincia].keys()), value=None)\n",
    "    \n",
    "        provincia_drp.select(fn=provincia_drp_select, inputs=provincia_drp, outputs=municipio_drp)\n",
    "    \n",
    "        # \"Municipio\" selection\n",
    "        def municipio_drp_select(municipio):\n",
    "            global municipality_id\n",
    "            municipality_id = municipios[provincias_[int(county_id)]][municipio]\n",
    "            return None\n",
    "    \n",
    "        municipio_drp.select(fn=municipio_drp_select, inputs=municipio_drp, outputs=None)\n",
    "    \n",
    "        # Get sample points button\n",
    "        def getpoints_btn_click():\n",
    "            global points\n",
    "            points = wq.sampling_points(county_id, municipality_id)\n",
    "            return points\n",
    "        \n",
    "        getpoints_btn.click(fn=getpoints_btn_click, inputs=None, outputs=points_grdf)\n",
    "    \n",
    "        # \"Medición id\" populate\n",
    "        def points_grdf_change(df):\n",
    "            return gr.Dropdown(choices=df.iloc[:, 0].tolist(), value=None)\n",
    "        \n",
    "        points_grdf.change(fn=points_grdf_change, inputs=points_grdf, outputs=medicion_drp)\n",
    "    \n",
    "        # \"Medición id\" selection, \"fecha\" populate\n",
    "        def medicion_drp_select(medicion_id, df):\n",
    "            global point_id\n",
    "            point_id = medicion_id\n",
    "            return gr.Dropdown(choices=df.loc[df[\"id\"] == medicion_id, \"fechas\"].tolist()[0])\n",
    "    \n",
    "        medicion_drp.select(fn=medicion_drp_select, inputs=[medicion_drp, points_grdf], outputs=fecha_drp)\n",
    "    \n",
    "        # \"Fecha\" selection\n",
    "        def fecha_drp_select(fecha):\n",
    "            global date\n",
    "            date = fecha\n",
    "            return None\n",
    "        \n",
    "        fecha_drp.select(fn=fecha_drp_select, inputs=fecha_drp, outputs=None)\n",
    "    \n",
    "        # Get analytical data button\n",
    "        def getdata_btn_click():\n",
    "            global data\n",
    "            data = wq.analytical_data(point_id, date)\n",
    "            return data\n",
    "            \n",
    "        getdata_btn.click(fn=getdata_btn_click, inputs=None, outputs=data_grdf)\n",
    "    \n",
    "    # Tab 2\n",
    "    with gr.Tab(\"Agente IA\"):\n",
    "\n",
    "        gr.Markdown(\"## Chatea con el asistente de aguas\")\n",
    "        \n",
    "        gr.ChatInterface(\n",
    "            fn=stream_updates, \n",
    "            type=\"messages\",\n",
    "            chatbot= gr.Chatbot(\n",
    "                label=\"Agent\",\n",
    "                type=\"messages\",\n",
    "                avatar_images=(None, \"img/robot.svg\"),\n",
    "            ),\n",
    "        )\n",
    "\n",
    "        gr.Markdown(\n",
    "            \"\"\"\n",
    "            __Posible secuencia de mensajes de chat dirigidos al agente:__\n",
    "            1. Obtener puntos de muestreo. Ejemplo:  _Proporciona una lista con los puntos de muestreo disponibles en **Urretxu**_\n",
    "            2. Obtener datos analíticos. Ejemplo: _Proporciona los datos analíticos para identificador **20032077004** en **2025-03-18**_\n",
    "            3. Obtener valoración. Ejemplo: _¿La calidad del agua es correcta según los valores de estos parámetros?_\n",
    "            \"\"\"\n",
    "            )\n",
    "\n",
    "        newthread_btn = gr.Button(\"+ (nueva conversación)\", scale=0)\n",
    "        newthread_btn.click(fn=newthread)\n",
    "\n",
    "demo.launch()"
   ]
  },
  {
   "cell_type": "code",
   "execution_count": null,
   "id": "33ae5061-f154-4ba7-ad43-f031915fa058",
   "metadata": {},
   "outputs": [],
   "source": []
  }
 ],
 "metadata": {
  "kernelspec": {
   "display_name": "Python 3 (ipykernel)",
   "language": "python",
   "name": "python3"
  },
  "language_info": {
   "codemirror_mode": {
    "name": "ipython",
    "version": 3
   },
   "file_extension": ".py",
   "mimetype": "text/x-python",
   "name": "python",
   "nbconvert_exporter": "python",
   "pygments_lexer": "ipython3",
   "version": "3.12.0"
  }
 },
 "nbformat": 4,
 "nbformat_minor": 5
}
